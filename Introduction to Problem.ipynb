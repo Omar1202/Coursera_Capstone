{
 "cells": [
  {
   "cell_type": "markdown",
   "metadata": {},
   "source": [
    "## Realtion Between USA Cities by COVID-19 positive cases"
   ]
  },
  {
   "cell_type": "markdown",
   "metadata": {},
   "source": [
    "### 1. Background"
   ]
  },
  {
   "cell_type": "markdown",
   "metadata": {},
   "source": [
    "A coronavirus is a common type of virus that causes an infection in the nose, sinuses, or upper throat. Most coronaviruses are not dangerous.\n",
    "In early 2020, after a December 2019 outbreak in China, the World Health Organization identified SARS-CoV-2 as a new type of coronavirus. The outbreak quickly spread around the world.\n",
    "COVID-19 is a disease caused by SARS-CoV-2 that can trigger what doctors call a respiratory tract infection. It can affect the upper respiratory tract (sinuses, nose and throat) or the lower respiratory tract (trachea and lungs).\n",
    "Currently the world is in a pandemic situation due to this virus."
   ]
  },
  {
   "cell_type": "markdown",
   "metadata": {},
   "source": [
    "### 2. Objective"
   ]
  },
  {
   "cell_type": "markdown",
   "metadata": {},
   "source": [
    "The objective of this project is to cluster the 200 USA cities with the most confirmed cases of COVID-19 to identify wich of this cities are similar by their principal venues."
   ]
  },
  {
   "cell_type": "markdown",
   "metadata": {},
   "source": [
    "### 3. The Data"
   ]
  },
  {
   "cell_type": "markdown",
   "metadata": {},
   "source": [
    "For this project we will use the *time_series_covid_19_confirmed_US.csv* provided by an user of Kaggle platform (related to this link:https://www.kaggle.com/sudalairajkumar/novel-corona-virus-2019-dataset\")\n",
    "The distribution of the data is like:"
   ]
  },
  {
   "cell_type": "code",
   "execution_count": 1,
   "metadata": {},
   "outputs": [
    {
     "data": {
      "text/html": [
       "<div>\n",
       "<style scoped>\n",
       "    .dataframe tbody tr th:only-of-type {\n",
       "        vertical-align: middle;\n",
       "    }\n",
       "\n",
       "    .dataframe tbody tr th {\n",
       "        vertical-align: top;\n",
       "    }\n",
       "\n",
       "    .dataframe thead th {\n",
       "        text-align: right;\n",
       "    }\n",
       "</style>\n",
       "<table border=\"1\" class=\"dataframe\">\n",
       "  <thead>\n",
       "    <tr style=\"text-align: right;\">\n",
       "      <th></th>\n",
       "      <th>UID</th>\n",
       "      <th>iso2</th>\n",
       "      <th>iso3</th>\n",
       "      <th>code3</th>\n",
       "      <th>FIPS</th>\n",
       "      <th>Admin2</th>\n",
       "      <th>Province_State</th>\n",
       "      <th>Country_Region</th>\n",
       "      <th>Lat</th>\n",
       "      <th>Long_</th>\n",
       "      <th>...</th>\n",
       "      <th>9/14/20</th>\n",
       "      <th>9/15/20</th>\n",
       "      <th>9/16/20</th>\n",
       "      <th>9/17/20</th>\n",
       "      <th>9/18/20</th>\n",
       "      <th>9/19/20</th>\n",
       "      <th>9/20/20</th>\n",
       "      <th>9/21/20</th>\n",
       "      <th>9/22/20</th>\n",
       "      <th>9/23/20</th>\n",
       "    </tr>\n",
       "  </thead>\n",
       "  <tbody>\n",
       "    <tr>\n",
       "      <th>0</th>\n",
       "      <td>84001001</td>\n",
       "      <td>US</td>\n",
       "      <td>USA</td>\n",
       "      <td>840</td>\n",
       "      <td>1001.0</td>\n",
       "      <td>Autauga</td>\n",
       "      <td>Alabama</td>\n",
       "      <td>US</td>\n",
       "      <td>32.539527</td>\n",
       "      <td>-86.644082</td>\n",
       "      <td>...</td>\n",
       "      <td>1447</td>\n",
       "      <td>1463</td>\n",
       "      <td>1619</td>\n",
       "      <td>1624</td>\n",
       "      <td>1664</td>\n",
       "      <td>1673</td>\n",
       "      <td>1690</td>\n",
       "      <td>1691</td>\n",
       "      <td>1714</td>\n",
       "      <td>1715</td>\n",
       "    </tr>\n",
       "    <tr>\n",
       "      <th>1</th>\n",
       "      <td>84001003</td>\n",
       "      <td>US</td>\n",
       "      <td>USA</td>\n",
       "      <td>840</td>\n",
       "      <td>1003.0</td>\n",
       "      <td>Baldwin</td>\n",
       "      <td>Alabama</td>\n",
       "      <td>US</td>\n",
       "      <td>30.727750</td>\n",
       "      <td>-87.722071</td>\n",
       "      <td>...</td>\n",
       "      <td>4800</td>\n",
       "      <td>4812</td>\n",
       "      <td>5003</td>\n",
       "      <td>5021</td>\n",
       "      <td>5033</td>\n",
       "      <td>5047</td>\n",
       "      <td>5061</td>\n",
       "      <td>5087</td>\n",
       "      <td>5124</td>\n",
       "      <td>5141</td>\n",
       "    </tr>\n",
       "    <tr>\n",
       "      <th>2</th>\n",
       "      <td>84001005</td>\n",
       "      <td>US</td>\n",
       "      <td>USA</td>\n",
       "      <td>840</td>\n",
       "      <td>1005.0</td>\n",
       "      <td>Barbour</td>\n",
       "      <td>Alabama</td>\n",
       "      <td>US</td>\n",
       "      <td>31.868263</td>\n",
       "      <td>-85.387129</td>\n",
       "      <td>...</td>\n",
       "      <td>626</td>\n",
       "      <td>629</td>\n",
       "      <td>809</td>\n",
       "      <td>809</td>\n",
       "      <td>824</td>\n",
       "      <td>830</td>\n",
       "      <td>835</td>\n",
       "      <td>838</td>\n",
       "      <td>848</td>\n",
       "      <td>851</td>\n",
       "    </tr>\n",
       "    <tr>\n",
       "      <th>3</th>\n",
       "      <td>84001007</td>\n",
       "      <td>US</td>\n",
       "      <td>USA</td>\n",
       "      <td>840</td>\n",
       "      <td>1007.0</td>\n",
       "      <td>Bibb</td>\n",
       "      <td>Alabama</td>\n",
       "      <td>US</td>\n",
       "      <td>32.996421</td>\n",
       "      <td>-87.125115</td>\n",
       "      <td>...</td>\n",
       "      <td>581</td>\n",
       "      <td>580</td>\n",
       "      <td>612</td>\n",
       "      <td>617</td>\n",
       "      <td>619</td>\n",
       "      <td>628</td>\n",
       "      <td>632</td>\n",
       "      <td>636</td>\n",
       "      <td>635</td>\n",
       "      <td>638</td>\n",
       "    </tr>\n",
       "    <tr>\n",
       "      <th>4</th>\n",
       "      <td>84001009</td>\n",
       "      <td>US</td>\n",
       "      <td>USA</td>\n",
       "      <td>840</td>\n",
       "      <td>1009.0</td>\n",
       "      <td>Blount</td>\n",
       "      <td>Alabama</td>\n",
       "      <td>US</td>\n",
       "      <td>33.982109</td>\n",
       "      <td>-86.567906</td>\n",
       "      <td>...</td>\n",
       "      <td>1128</td>\n",
       "      <td>1139</td>\n",
       "      <td>1487</td>\n",
       "      <td>1504</td>\n",
       "      <td>1527</td>\n",
       "      <td>1542</td>\n",
       "      <td>1551</td>\n",
       "      <td>1560</td>\n",
       "      <td>1573</td>\n",
       "      <td>1580</td>\n",
       "    </tr>\n",
       "  </tbody>\n",
       "</table>\n",
       "<p>5 rows × 257 columns</p>\n",
       "</div>"
      ],
      "text/plain": [
       "        UID iso2 iso3  code3    FIPS   Admin2 Province_State Country_Region  \\\n",
       "0  84001001   US  USA    840  1001.0  Autauga        Alabama             US   \n",
       "1  84001003   US  USA    840  1003.0  Baldwin        Alabama             US   \n",
       "2  84001005   US  USA    840  1005.0  Barbour        Alabama             US   \n",
       "3  84001007   US  USA    840  1007.0     Bibb        Alabama             US   \n",
       "4  84001009   US  USA    840  1009.0   Blount        Alabama             US   \n",
       "\n",
       "         Lat      Long_  ... 9/14/20  9/15/20  9/16/20  9/17/20  9/18/20  \\\n",
       "0  32.539527 -86.644082  ...    1447     1463     1619     1624     1664   \n",
       "1  30.727750 -87.722071  ...    4800     4812     5003     5021     5033   \n",
       "2  31.868263 -85.387129  ...     626      629      809      809      824   \n",
       "3  32.996421 -87.125115  ...     581      580      612      617      619   \n",
       "4  33.982109 -86.567906  ...    1128     1139     1487     1504     1527   \n",
       "\n",
       "   9/19/20  9/20/20  9/21/20  9/22/20  9/23/20  \n",
       "0     1673     1690     1691     1714     1715  \n",
       "1     5047     5061     5087     5124     5141  \n",
       "2      830      835      838      848      851  \n",
       "3      628      632      636      635      638  \n",
       "4     1542     1551     1560     1573     1580  \n",
       "\n",
       "[5 rows x 257 columns]"
      ]
     },
     "execution_count": 1,
     "metadata": {},
     "output_type": "execute_result"
    }
   ],
   "source": [
    "import pandas as pd\n",
    "df_covid = pd.read_csv('time_series_covid_19_confirmed_US.csv')\n",
    "df_covid.head()"
   ]
  },
  {
   "cell_type": "code",
   "execution_count": 2,
   "metadata": {},
   "outputs": [
    {
     "data": {
      "text/plain": [
       "array(['UID', 'iso2', 'iso3', 'code3', 'FIPS', 'Admin2', 'Province_State',\n",
       "       'Country_Region', 'Lat', 'Long_', 'Combined_Key', '1/22/20',\n",
       "       '1/23/20', '1/24/20', '1/25/20', '1/26/20', '1/27/20', '1/28/20',\n",
       "       '1/29/20', '1/30/20', '1/31/20', '2/1/20', '2/2/20', '2/3/20',\n",
       "       '2/4/20', '2/5/20', '2/6/20', '2/7/20', '2/8/20', '2/9/20',\n",
       "       '2/10/20', '2/11/20', '2/12/20', '2/13/20', '2/14/20', '2/15/20',\n",
       "       '2/16/20', '2/17/20', '2/18/20', '2/19/20', '2/20/20', '2/21/20',\n",
       "       '2/22/20', '2/23/20', '2/24/20', '2/25/20', '2/26/20', '2/27/20',\n",
       "       '2/28/20', '2/29/20', '3/1/20', '3/2/20', '3/3/20', '3/4/20',\n",
       "       '3/5/20', '3/6/20', '3/7/20', '3/8/20', '3/9/20', '3/10/20',\n",
       "       '3/11/20', '3/12/20', '3/13/20', '3/14/20', '3/15/20', '3/16/20',\n",
       "       '3/17/20', '3/18/20', '3/19/20', '3/20/20', '3/21/20', '3/22/20',\n",
       "       '3/23/20', '3/24/20', '3/25/20', '3/26/20', '3/27/20', '3/28/20',\n",
       "       '3/29/20', '3/30/20', '3/31/20', '4/1/20', '4/2/20', '4/3/20',\n",
       "       '4/4/20', '4/5/20', '4/6/20', '4/7/20', '4/8/20', '4/9/20',\n",
       "       '4/10/20', '4/11/20', '4/12/20', '4/13/20', '4/14/20', '4/15/20',\n",
       "       '4/16/20', '4/17/20', '4/18/20', '4/19/20', '4/20/20', '4/21/20',\n",
       "       '4/22/20', '4/23/20', '4/24/20', '4/25/20', '4/26/20', '4/27/20',\n",
       "       '4/28/20', '4/29/20', '4/30/20', '5/1/20', '5/2/20', '5/3/20',\n",
       "       '5/4/20', '5/5/20', '5/6/20', '5/7/20', '5/8/20', '5/9/20',\n",
       "       '5/10/20', '5/11/20', '5/12/20', '5/13/20', '5/14/20', '5/15/20',\n",
       "       '5/16/20', '5/17/20', '5/18/20', '5/19/20', '5/20/20', '5/21/20',\n",
       "       '5/22/20', '5/23/20', '5/24/20', '5/25/20', '5/26/20', '5/27/20',\n",
       "       '5/28/20', '5/29/20', '5/30/20', '5/31/20', '6/1/20', '6/2/20',\n",
       "       '6/3/20', '6/4/20', '6/5/20', '6/6/20', '6/7/20', '6/8/20',\n",
       "       '6/9/20', '6/10/20', '6/11/20', '6/12/20', '6/13/20', '6/14/20',\n",
       "       '6/15/20', '6/16/20', '6/17/20', '6/18/20', '6/19/20', '6/20/20',\n",
       "       '6/21/20', '6/22/20', '6/23/20', '6/24/20', '6/25/20', '6/26/20',\n",
       "       '6/27/20', '6/28/20', '6/29/20', '6/30/20', '7/1/20', '7/2/20',\n",
       "       '7/3/20', '7/4/20', '7/5/20', '7/6/20', '7/7/20', '7/8/20',\n",
       "       '7/9/20', '7/10/20', '7/11/20', '7/12/20', '7/13/20', '7/14/20',\n",
       "       '7/15/20', '7/16/20', '7/17/20', '7/18/20', '7/19/20', '7/20/20',\n",
       "       '7/21/20', '7/22/20', '7/23/20', '7/24/20', '7/25/20', '7/26/20',\n",
       "       '7/27/20', '7/28/20', '7/29/20', '7/30/20', '7/31/20', '8/1/20',\n",
       "       '8/2/20', '8/3/20', '8/4/20', '8/5/20', '8/6/20', '8/7/20',\n",
       "       '8/8/20', '8/9/20', '8/10/20', '8/11/20', '8/12/20', '8/13/20',\n",
       "       '8/14/20', '8/15/20', '8/16/20', '8/17/20', '8/18/20', '8/19/20',\n",
       "       '8/20/20', '8/21/20', '8/22/20', '8/23/20', '8/24/20', '8/25/20',\n",
       "       '8/26/20', '8/27/20', '8/28/20', '8/29/20', '8/30/20', '8/31/20',\n",
       "       '9/1/20', '9/2/20', '9/3/20', '9/4/20', '9/5/20', '9/6/20',\n",
       "       '9/7/20', '9/8/20', '9/9/20', '9/10/20', '9/11/20', '9/12/20',\n",
       "       '9/13/20', '9/14/20', '9/15/20', '9/16/20', '9/17/20', '9/18/20',\n",
       "       '9/19/20', '9/20/20', '9/21/20', '9/22/20', '9/23/20'],\n",
       "      dtype=object)"
      ]
     },
     "execution_count": 2,
     "metadata": {},
     "output_type": "execute_result"
    }
   ],
   "source": [
    "df_covid.columns.values"
   ]
  },
  {
   "cell_type": "markdown",
   "metadata": {},
   "source": [
    "As we can see, the distribution includes:\n",
    "\n",
    "* UID as an Identifier\n",
    "\n",
    "* iso2 and iso3 to refer United States\n",
    "\n",
    "* code3 like a code to identify the country\n",
    "\n",
    "* Admin2 like the City name\n",
    "\n",
    "* Province_State like the State of the City\n",
    "\n",
    "* Lat and Long_ like the coordinates of the City\n",
    "\n",
    "* Combined_key like the union of Admin2 + Province_State + Country_Region\n",
    "\n",
    "* The rest is a set of dates, between 22 of January 2020 to 23 of September 2020"
   ]
  },
  {
   "cell_type": "markdown",
   "metadata": {},
   "source": [
    "### The data to be used"
   ]
  },
  {
   "cell_type": "markdown",
   "metadata": {},
   "source": [
    "For this project, we only need to know:\n",
    "\n",
    "* The City name (admin2)\n",
    "\n",
    "* The state of the City (Province_State)\n",
    "\n",
    "* The coords of the City (Lat and Long_)\n",
    "\n",
    "* The final date (accumulated cases)\n",
    "\n",
    "This data help us to get the 200 principal cities of USA with most confirmed cases od COVID-19, to finally search and get the principal venues and cluster them."
   ]
  },
  {
   "cell_type": "code",
   "execution_count": null,
   "metadata": {},
   "outputs": [],
   "source": []
  }
 ],
 "metadata": {
  "kernelspec": {
   "display_name": "Python 3",
   "language": "python",
   "name": "python3"
  },
  "language_info": {
   "codemirror_mode": {
    "name": "ipython",
    "version": 3
   },
   "file_extension": ".py",
   "mimetype": "text/x-python",
   "name": "python",
   "nbconvert_exporter": "python",
   "pygments_lexer": "ipython3",
   "version": "3.8.3"
  }
 },
 "nbformat": 4,
 "nbformat_minor": 4
}
